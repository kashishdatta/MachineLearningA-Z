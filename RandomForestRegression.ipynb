{
  "nbformat": 4,
  "nbformat_minor": 0,
  "metadata": {
    "colab": {
      "name": "RandomForestRegression.ipynb",
      "provenance": [],
      "authorship_tag": "ABX9TyOrxP586CDIMKTzWoP50Cvk",
      "include_colab_link": true
    },
    "kernelspec": {
      "name": "python3",
      "display_name": "Python 3"
    },
    "language_info": {
      "name": "python"
    }
  },
  "cells": [
    {
      "cell_type": "markdown",
      "metadata": {
        "id": "view-in-github",
        "colab_type": "text"
      },
      "source": [
        "<a href=\"https://colab.research.google.com/github/kashishdatta/MachineLearningA-Z/blob/main/RandomForestRegression.ipynb\" target=\"_parent\"><img src=\"https://colab.research.google.com/assets/colab-badge.svg\" alt=\"Open In Colab\"/></a>"
      ]
    },
    {
      "cell_type": "markdown",
      "source": [
        "RANDOM FOREST REGRESSION"
      ],
      "metadata": {
        "id": "kOWqkEH16nlr"
      }
    },
    {
      "cell_type": "markdown",
      "source": [
        "Data Preprocessing"
      ],
      "metadata": {
        "id": "yenfF2bg6vHi"
      }
    },
    {
      "cell_type": "code",
      "execution_count": 1,
      "metadata": {
        "id": "GFDlsMTC19zi"
      },
      "outputs": [],
      "source": [
        "import pandas as pd\n",
        "import numpy as np\n",
        "import matplotlib.pyplot as plt "
      ]
    },
    {
      "cell_type": "code",
      "source": [
        "dataset = pd.read_csv('Position_Salaries.csv')"
      ],
      "metadata": {
        "id": "QOYC_s-W61U6"
      },
      "execution_count": 2,
      "outputs": []
    },
    {
      "cell_type": "code",
      "source": [
        "X = dataset.iloc[:, 1:2].values\n",
        "y = dataset.iloc[:, 2].values"
      ],
      "metadata": {
        "id": "m2_xwRb_66IH"
      },
      "execution_count": 3,
      "outputs": []
    },
    {
      "cell_type": "markdown",
      "source": [
        "Fitting Random Forest Regression to the dataset"
      ],
      "metadata": {
        "id": "HvBd_BAk7J2z"
      }
    },
    {
      "cell_type": "code",
      "source": [
        "from sklearn.ensemble import RandomForestRegressor\n",
        "regressor = RandomForestRegressor(n_estimators=300, random_state=0)\n",
        "regressor.fit(X, y)"
      ],
      "metadata": {
        "id": "kaWqVwMn7RQ_"
      },
      "execution_count": null,
      "outputs": []
    },
    {
      "cell_type": "markdown",
      "source": [
        "Predicting a new Result"
      ],
      "metadata": {
        "id": "xjOxl48q7m8e"
      }
    },
    {
      "cell_type": "code",
      "source": [
        "y_pred = regressor.predict([[6.5]])"
      ],
      "metadata": {
        "id": "dYQNlvaH7qET"
      },
      "execution_count": 7,
      "outputs": []
    },
    {
      "cell_type": "markdown",
      "source": [
        "Visualising Random Forest Regression Results"
      ],
      "metadata": {
        "id": "4j6t0m4p7w-g"
      }
    },
    {
      "cell_type": "code",
      "source": [
        "X_grid = np.arange(min(X), max(X), 0.1)\n",
        "X_grid = X_grid.reshape(len(X_grid), 1)\n",
        "plt.scatter(X, y, color='red')\n",
        "plt.plot(X_grid, regressor.predict(X_grid), color='blue')\n",
        "plt.title('Random Forest Regression')\n",
        "plt.xlabel('Position Level')\n",
        "plt.ylabel('Salary')\n",
        "plt.show()"
      ],
      "metadata": {
        "colab": {
          "base_uri": "https://localhost:8080/",
          "height": 295
        },
        "id": "3FYtHtgq78KI",
        "outputId": "0f61a153-f7c7-43f8-a639-33d2faf8cdeb"
      },
      "execution_count": 8,
      "outputs": [
        {
          "output_type": "display_data",
          "data": {
            "text/plain": [
              "<Figure size 432x288 with 1 Axes>"
            ],
            "image/png": "[encoded data removed]"
          },
          "metadata": {
            "needs_background": "light"
          }
        }
      ]
    }
  ]
}